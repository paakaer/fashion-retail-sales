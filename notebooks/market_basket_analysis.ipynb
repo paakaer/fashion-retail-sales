{
 "cells": [
  {
   "cell_type": "code",
   "execution_count": 14,
   "id": "6fa56b3e",
   "metadata": {},
   "outputs": [
    {
     "name": "stdout",
     "output_type": "stream",
     "text": [
      "<class 'pandas.core.frame.DataFrame'>\n",
      "RangeIndex: 3400 entries, 0 to 3399\n",
      "Data columns (total 9 columns):\n",
      " #   Column           Non-Null Count  Dtype         \n",
      "---  ------           --------------  -----         \n",
      " 0   customer_id      3400 non-null   int64         \n",
      " 1   item_purchased   3400 non-null   object        \n",
      " 2   purchase_amount  3400 non-null   float64       \n",
      " 3   purchase_date    3400 non-null   datetime64[ns]\n",
      " 4   review_rating    3400 non-null   float64       \n",
      " 5   payment_method   3400 non-null   object        \n",
      " 6   month            3400 non-null   int64         \n",
      " 7   year             3400 non-null   int64         \n",
      " 8   day_of_week      3400 non-null   object        \n",
      "dtypes: datetime64[ns](1), float64(2), int64(3), object(3)\n",
      "memory usage: 239.2+ KB\n"
     ]
    }
   ],
   "source": [
    "import pandas as pd\n",
    "\n",
    "df = pd.read_csv('fashion_retail_sales_cleaned.csv', parse_dates=['purchase_date'])\n",
    "\n",
    "df.info()"
   ]
  },
  {
   "cell_type": "code",
   "execution_count": 15,
   "id": "97561b87",
   "metadata": {},
   "outputs": [
    {
     "name": "stdout",
     "output_type": "stream",
     "text": [
      "count    3301.000000\n",
      "mean        1.029991\n",
      "std         0.172355\n",
      "min         1.000000\n",
      "25%         1.000000\n",
      "50%         1.000000\n",
      "75%         1.000000\n",
      "max         3.000000\n",
      "Name: basket_size, dtype: float64\n"
     ]
    }
   ],
   "source": [
    "# group data into baskets\n",
    "# one can assume that items bought by the same customer_id on the same purchase_date form one basket.\n",
    "\n",
    "basket_df = df.groupby(['customer_id', 'purchase_date'])['item_purchased'].apply(list).reset_index()\n",
    "\n",
    "basket_df['basket_size'] = basket_df['item_purchased'].apply(len)\n",
    "print(basket_df['basket_size'].describe())"
   ]
  },
  {
   "cell_type": "code",
   "execution_count": 16,
   "id": "207e5ec3",
   "metadata": {},
   "outputs": [],
   "source": [
    "# One-Hot Encode the data. You'll need to transform your list of baskets into a matrix where each row is a transaction, each column is an item, and the values are 1 (if the item is in the transaction) or 0.\n",
    "from mlxtend.preprocessing import TransactionEncoder\n",
    "from mlxtend.frequent_patterns import apriori, association_rules\n",
    "from mlxtend.frequent_patterns import fpgrowth\n",
    "\n",
    "te = TransactionEncoder()\n",
    "te_ary = te.fit_transform(\n",
    "    basket_df['item_purchased'])#.transform(df['item_purchased'])\n",
    "df_basket = pd.DataFrame(te_ary, columns=te.columns_)"
   ]
  },
  {
   "cell_type": "code",
   "execution_count": 17,
   "id": "58709c84",
   "metadata": {},
   "outputs": [
    {
     "name": "stdout",
     "output_type": "stream",
     "text": [
      "Apriori Rules:\n",
      "Empty DataFrame\n",
      "Columns: [antecedents, consequents, antecedent support, consequent support, support, confidence, lift, representativity, leverage, conviction, zhangs_metric, jaccard, certainty, kulczynski]\n",
      "Index: []\n",
      "\n",
      "FP-Growth Rules:\n",
      "Empty DataFrame\n",
      "Columns: [antecedents, consequents, antecedent support, consequent support, support, confidence, lift, representativity, leverage, conviction, zhangs_metric, jaccard, certainty, kulczynski]\n",
      "Index: []\n"
     ]
    }
   ],
   "source": [
    "# Use the Apriori algorithm to find frequent itemsets\n",
    "frequent_itemsets = apriori(df_basket, min_support=0.005, use_colnames=True)\n",
    "\n",
    "# Use the FP-Growth algorithm to find frequent itemsets\n",
    "frequent_itemsets_fp = fpgrowth(\n",
    "    df_basket, min_support=0.005, use_colnames=True)\n",
    "\n",
    "# Generate association rules\n",
    "rules = association_rules(frequent_itemsets, metric=\"lift\", min_threshold=1)\n",
    "\n",
    "# Generate association rules using FP-Growth\n",
    "rules_fp = association_rules(frequent_itemsets_fp, metric=\"lift\", min_threshold=1)\n",
    "\n",
    "rules = rules.sort_values(by='confidence', ascending=False)\n",
    "rules_fp = rules_fp.sort_values(by='confidence', ascending=False)\n",
    "\n",
    "rules = rules[rules['antecedents'].apply(lambda x: len(x)) > 0]\n",
    "rules = rules[rules['consequents'].apply(lambda x: len(x)) > 0]\n",
    "rules_fp = rules_fp[rules_fp['antecedents'].apply(lambda x: len(x)) > 0]\n",
    "rules_fp = rules_fp[rules_fp['consequents'].apply(lambda x: len(x)) > 0]\n",
    "\n",
    "# Display the rules\n",
    "print(\"Apriori Rules:\")\n",
    "print(rules)\n",
    "print(\"\\nFP-Growth Rules:\")\n",
    "print(rules_fp)"
   ]
  },
  {
   "cell_type": "code",
   "execution_count": 18,
   "id": "5f4a33d3",
   "metadata": {},
   "outputs": [
    {
     "name": "stdout",
     "output_type": "stream",
     "text": [
      "[('Belt', 90), ('Skirt', 88), ('Shorts', 87), ('Pants', 86), ('Tank Top', 82), ('T-shirt', 82), ('Pajamas', 81), ('Camisole', 76), ('Loafers', 76), ('Hoodie', 75)]\n"
     ]
    }
   ],
   "source": [
    "from collections import Counter\n",
    "from itertools import chain\n",
    "\n",
    "item_counts = Counter(chain.from_iterable(basket_df['item_purchased']))\n",
    "print(item_counts.most_common(10))"
   ]
  },
  {
   "cell_type": "code",
   "execution_count": null,
   "id": "27ec72e7",
   "metadata": {},
   "outputs": [
    {
     "name": "stdout",
     "output_type": "stream",
     "text": [
      "[(('Belt', 'Skirt'), 33), (('Camisole', 'Skirt'), 31), (('Belt', 'Trench Coat'), 30), (('Socks', 'Tank Top'), 29), (('Sneakers', 'Skirt'), 29), (('Camisole', 'Loafers'), 29), (('Tunic', 'Pants'), 28), (('Pajamas', 'Skirt'), 28), (('Camisole', 'Sweater'), 28), (('Belt', 'Poncho'), 28)]\n"
     ]
    }
   ],
   "source": [
    "# Analizza se lo stesso cliente ha acquistato diversi prodotti in giorni diversi. È meno forte di una regola \"nello stesso carrello\", ma può darti insight:\n",
    "\n",
    "from itertools import combinations, chain\n",
    "from collections import Counter\n",
    "customer_items = df.groupby('customer_id')['item_purchased'].apply(list)\n",
    "customer_items = customer_items[customer_items.apply(len) > 1]\n",
    "\n",
    "\n",
    "pairs = chain.from_iterable([combinations(set(items), 2)\n",
    "                            for items in customer_items])\n",
    "pair_counts = Counter(pairs)\n",
    "print(pair_counts.most_common(10))"
   ]
  }
 ],
 "metadata": {
  "kernelspec": {
   "display_name": "base",
   "language": "python",
   "name": "python3"
  },
  "language_info": {
   "codemirror_mode": {
    "name": "ipython",
    "version": 3
   },
   "file_extension": ".py",
   "mimetype": "text/x-python",
   "name": "python",
   "nbconvert_exporter": "python",
   "pygments_lexer": "ipython3",
   "version": "3.12.7"
  }
 },
 "nbformat": 4,
 "nbformat_minor": 5
}
