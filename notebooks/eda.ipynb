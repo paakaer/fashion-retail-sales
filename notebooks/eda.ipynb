{
 "cells": [
  {
   "cell_type": "markdown",
   "id": "087332db",
   "metadata": {},
   "source": [
    "# Fashion Retail Sales Dataset"
   ]
  },
  {
   "cell_type": "code",
   "execution_count": 1,
   "id": "11c04083",
   "metadata": {},
   "outputs": [],
   "source": [
    "import pandas as pd\n",
    "\n",
    "df = pd.read_csv('Fashion_Retail_Sales.csv')"
   ]
  },
  {
   "cell_type": "code",
   "execution_count": 2,
   "id": "27655009",
   "metadata": {},
   "outputs": [
    {
     "data": {
      "text/plain": [
       "(3400, 6)"
      ]
     },
     "execution_count": 2,
     "metadata": {},
     "output_type": "execute_result"
    }
   ],
   "source": [
    "df.shape"
   ]
  },
  {
   "cell_type": "code",
   "execution_count": 3,
   "id": "4d436c82",
   "metadata": {},
   "outputs": [
    {
     "data": {
      "text/plain": [
       "Index(['Customer Reference ID', 'Item Purchased', 'Purchase Amount (USD)',\n",
       "       'Date Purchase', 'Review Rating', 'Payment Method'],\n",
       "      dtype='object')"
      ]
     },
     "execution_count": 3,
     "metadata": {},
     "output_type": "execute_result"
    }
   ],
   "source": [
    "df.columns"
   ]
  },
  {
   "cell_type": "code",
   "execution_count": 4,
   "id": "df4007c8",
   "metadata": {},
   "outputs": [],
   "source": [
    "df.rename(columns={\n",
    "    'Customer Reference ID':'customer_id',\n",
    "    'Item Purchased': 'item_purchased',\n",
    "    'Purchase Amount (USD)': 'purchase_amount',\n",
    "    'Date Purchase': 'purchase_date',\n",
    "    'Review Rating': 'review_rating',\n",
    "    'Payment Method': 'payment_method',\n",
    "}, inplace=True)"
   ]
  },
  {
   "cell_type": "code",
   "execution_count": 5,
   "id": "11289a95",
   "metadata": {},
   "outputs": [
    {
     "data": {
      "application/vnd.microsoft.datawrangler.viewer.v0+json": {
       "columns": [
        {
         "name": "index",
         "rawType": "object",
         "type": "string"
        },
        {
         "name": "customer_id",
         "rawType": "float64",
         "type": "float"
        },
        {
         "name": "item_purchased",
         "rawType": "object",
         "type": "unknown"
        },
        {
         "name": "purchase_amount",
         "rawType": "float64",
         "type": "float"
        },
        {
         "name": "purchase_date",
         "rawType": "object",
         "type": "unknown"
        },
        {
         "name": "review_rating",
         "rawType": "float64",
         "type": "float"
        },
        {
         "name": "payment_method",
         "rawType": "object",
         "type": "unknown"
        }
       ],
       "ref": "4492ae49-1470-4784-8fae-277be2c7b446",
       "rows": [
        [
         "count",
         "3400.0",
         "3400",
         "2750.0",
         "3400",
         "3076.0",
         "3400"
        ],
        [
         "unique",
         null,
         "50",
         null,
         "365",
         null,
         "2"
        ],
        [
         "top",
         null,
         "Belt",
         null,
         "22-09-2023",
         null,
         "Credit Card"
        ],
        [
         "freq",
         null,
         "90",
         null,
         "17",
         null,
         "1770"
        ],
        [
         "mean",
         "4039.660588235294",
         null,
         "156.70981818181818",
         null,
         "2.9990572171651495",
         null
        ],
        [
         "std",
         "48.12258275608316",
         null,
         "419.5366688715006",
         null,
         "1.1565054266748576",
         null
        ],
        [
         "min",
         "3957.0",
         null,
         "10.0",
         null,
         "1.0",
         null
        ],
        [
         "25%",
         "3997.0",
         null,
         "57.0",
         null,
         "2.0",
         null
        ],
        [
         "50%",
         "4040.0",
         null,
         "110.0",
         null,
         "3.0",
         null
        ],
        [
         "75%",
         "4081.0",
         null,
         "155.75",
         null,
         "4.0",
         null
        ],
        [
         "max",
         "4122.0",
         null,
         "4932.0",
         null,
         "5.0",
         null
        ]
       ],
       "shape": {
        "columns": 6,
        "rows": 11
       }
      },
      "text/html": [
       "<div>\n",
       "<style scoped>\n",
       "    .dataframe tbody tr th:only-of-type {\n",
       "        vertical-align: middle;\n",
       "    }\n",
       "\n",
       "    .dataframe tbody tr th {\n",
       "        vertical-align: top;\n",
       "    }\n",
       "\n",
       "    .dataframe thead th {\n",
       "        text-align: right;\n",
       "    }\n",
       "</style>\n",
       "<table border=\"1\" class=\"dataframe\">\n",
       "  <thead>\n",
       "    <tr style=\"text-align: right;\">\n",
       "      <th></th>\n",
       "      <th>customer_id</th>\n",
       "      <th>item_purchased</th>\n",
       "      <th>purchase_amount</th>\n",
       "      <th>purchase_date</th>\n",
       "      <th>review_rating</th>\n",
       "      <th>payment_method</th>\n",
       "    </tr>\n",
       "  </thead>\n",
       "  <tbody>\n",
       "    <tr>\n",
       "      <th>count</th>\n",
       "      <td>3400.000000</td>\n",
       "      <td>3400</td>\n",
       "      <td>2750.000000</td>\n",
       "      <td>3400</td>\n",
       "      <td>3076.000000</td>\n",
       "      <td>3400</td>\n",
       "    </tr>\n",
       "    <tr>\n",
       "      <th>unique</th>\n",
       "      <td>NaN</td>\n",
       "      <td>50</td>\n",
       "      <td>NaN</td>\n",
       "      <td>365</td>\n",
       "      <td>NaN</td>\n",
       "      <td>2</td>\n",
       "    </tr>\n",
       "    <tr>\n",
       "      <th>top</th>\n",
       "      <td>NaN</td>\n",
       "      <td>Belt</td>\n",
       "      <td>NaN</td>\n",
       "      <td>22-09-2023</td>\n",
       "      <td>NaN</td>\n",
       "      <td>Credit Card</td>\n",
       "    </tr>\n",
       "    <tr>\n",
       "      <th>freq</th>\n",
       "      <td>NaN</td>\n",
       "      <td>90</td>\n",
       "      <td>NaN</td>\n",
       "      <td>17</td>\n",
       "      <td>NaN</td>\n",
       "      <td>1770</td>\n",
       "    </tr>\n",
       "    <tr>\n",
       "      <th>mean</th>\n",
       "      <td>4039.660588</td>\n",
       "      <td>NaN</td>\n",
       "      <td>156.709818</td>\n",
       "      <td>NaN</td>\n",
       "      <td>2.999057</td>\n",
       "      <td>NaN</td>\n",
       "    </tr>\n",
       "    <tr>\n",
       "      <th>std</th>\n",
       "      <td>48.122583</td>\n",
       "      <td>NaN</td>\n",
       "      <td>419.536669</td>\n",
       "      <td>NaN</td>\n",
       "      <td>1.156505</td>\n",
       "      <td>NaN</td>\n",
       "    </tr>\n",
       "    <tr>\n",
       "      <th>min</th>\n",
       "      <td>3957.000000</td>\n",
       "      <td>NaN</td>\n",
       "      <td>10.000000</td>\n",
       "      <td>NaN</td>\n",
       "      <td>1.000000</td>\n",
       "      <td>NaN</td>\n",
       "    </tr>\n",
       "    <tr>\n",
       "      <th>25%</th>\n",
       "      <td>3997.000000</td>\n",
       "      <td>NaN</td>\n",
       "      <td>57.000000</td>\n",
       "      <td>NaN</td>\n",
       "      <td>2.000000</td>\n",
       "      <td>NaN</td>\n",
       "    </tr>\n",
       "    <tr>\n",
       "      <th>50%</th>\n",
       "      <td>4040.000000</td>\n",
       "      <td>NaN</td>\n",
       "      <td>110.000000</td>\n",
       "      <td>NaN</td>\n",
       "      <td>3.000000</td>\n",
       "      <td>NaN</td>\n",
       "    </tr>\n",
       "    <tr>\n",
       "      <th>75%</th>\n",
       "      <td>4081.000000</td>\n",
       "      <td>NaN</td>\n",
       "      <td>155.750000</td>\n",
       "      <td>NaN</td>\n",
       "      <td>4.000000</td>\n",
       "      <td>NaN</td>\n",
       "    </tr>\n",
       "    <tr>\n",
       "      <th>max</th>\n",
       "      <td>4122.000000</td>\n",
       "      <td>NaN</td>\n",
       "      <td>4932.000000</td>\n",
       "      <td>NaN</td>\n",
       "      <td>5.000000</td>\n",
       "      <td>NaN</td>\n",
       "    </tr>\n",
       "  </tbody>\n",
       "</table>\n",
       "</div>"
      ],
      "text/plain": [
       "        customer_id item_purchased  purchase_amount purchase_date  \\\n",
       "count   3400.000000           3400      2750.000000          3400   \n",
       "unique          NaN             50              NaN           365   \n",
       "top             NaN           Belt              NaN    22-09-2023   \n",
       "freq            NaN             90              NaN            17   \n",
       "mean    4039.660588            NaN       156.709818           NaN   \n",
       "std       48.122583            NaN       419.536669           NaN   \n",
       "min     3957.000000            NaN        10.000000           NaN   \n",
       "25%     3997.000000            NaN        57.000000           NaN   \n",
       "50%     4040.000000            NaN       110.000000           NaN   \n",
       "75%     4081.000000            NaN       155.750000           NaN   \n",
       "max     4122.000000            NaN      4932.000000           NaN   \n",
       "\n",
       "        review_rating payment_method  \n",
       "count     3076.000000           3400  \n",
       "unique            NaN              2  \n",
       "top               NaN    Credit Card  \n",
       "freq              NaN           1770  \n",
       "mean         2.999057            NaN  \n",
       "std          1.156505            NaN  \n",
       "min          1.000000            NaN  \n",
       "25%          2.000000            NaN  \n",
       "50%          3.000000            NaN  \n",
       "75%          4.000000            NaN  \n",
       "max          5.000000            NaN  "
      ]
     },
     "execution_count": 5,
     "metadata": {},
     "output_type": "execute_result"
    }
   ],
   "source": [
    "df.describe(include='all')"
   ]
  },
  {
   "cell_type": "code",
   "execution_count": 6,
   "id": "990d5b9b",
   "metadata": {},
   "outputs": [
    {
     "data": {
      "application/vnd.microsoft.datawrangler.viewer.v0+json": {
       "columns": [
        {
         "name": "index",
         "rawType": "object",
         "type": "string"
        },
        {
         "name": "0",
         "rawType": "float64",
         "type": "float"
        }
       ],
       "ref": "c1df6231-53e1-42da-94b9-518d2e22037d",
       "rows": [
        [
         "purchase_amount",
         "19.11764705882353"
        ],
        [
         "review_rating",
         "9.529411764705882"
        ]
       ],
       "shape": {
        "columns": 1,
        "rows": 2
       }
      },
      "text/plain": [
       "purchase_amount    19.117647\n",
       "review_rating       9.529412\n",
       "dtype: float64"
      ]
     },
     "execution_count": 6,
     "metadata": {},
     "output_type": "execute_result"
    }
   ],
   "source": [
    "# check percentage of missing values\n",
    "missing_values = df.isnull().mean() * 100\n",
    "missing_values[missing_values > 0].sort_values(ascending=False)"
   ]
  },
  {
   "cell_type": "code",
   "execution_count": 7,
   "id": "d6e0915c",
   "metadata": {},
   "outputs": [
    {
     "data": {
      "text/plain": [
       "['purchase_amount', 'review_rating']"
      ]
     },
     "execution_count": 7,
     "metadata": {},
     "output_type": "execute_result"
    }
   ],
   "source": [
    "# check which columns have missing values\n",
    "missing_columns = df.columns[df.isnull().any()].tolist()\n",
    "missing_columns"
   ]
  },
  {
   "cell_type": "code",
   "execution_count": 8,
   "id": "61c33841",
   "metadata": {},
   "outputs": [
    {
     "name": "stderr",
     "output_type": "stream",
     "text": [
      "C:\\Users\\kweku\\AppData\\Local\\Temp\\ipykernel_4740\\2179996.py:3: FutureWarning: A value is trying to be set on a copy of a DataFrame or Series through chained assignment using an inplace method.\n",
      "The behavior will change in pandas 3.0. This inplace method will never work because the intermediate object on which we are setting values always behaves as a copy.\n",
      "\n",
      "For example, when doing 'df[col].method(value, inplace=True)', try using 'df.method({col: value}, inplace=True)' or df[col] = df[col].method(value) instead, to perform the operation inplace on the original object.\n",
      "\n",
      "\n",
      "  df['purchase_amount'].fillna(df.groupby('item_purchased')['purchase_amount'].transform('median'), inplace=True)\n"
     ]
    }
   ],
   "source": [
    "# since the price is dependent on the 'item_purchased'. A much better approach is to group the data by 'item_purchased', \n",
    "# calculate the median price for each specific item, and then fill the missing values for an item with its own median price.\n",
    "df['purchase_amount'].fillna(df.groupby('item_purchased')['purchase_amount'].transform('median'), inplace=True)"
   ]
  },
  {
   "cell_type": "code",
   "execution_count": 9,
   "id": "c7a48664",
   "metadata": {},
   "outputs": [
    {
     "name": "stderr",
     "output_type": "stream",
     "text": [
      "C:\\Users\\kweku\\AppData\\Local\\Temp\\ipykernel_4740\\932829687.py:2: FutureWarning: A value is trying to be set on a copy of a DataFrame or Series through chained assignment using an inplace method.\n",
      "The behavior will change in pandas 3.0. This inplace method will never work because the intermediate object on which we are setting values always behaves as a copy.\n",
      "\n",
      "For example, when doing 'df[col].method(value, inplace=True)', try using 'df.method({col: value}, inplace=True)' or df[col] = df[col].method(value) instead, to perform the operation inplace on the original object.\n",
      "\n",
      "\n",
      "  df['review_rating'].fillna(df.groupby('item_purchased')['review_rating'].transform('median'), inplace=True)\n"
     ]
    }
   ],
   "source": [
    "# Just like with price, it's more accurate to fill the missing rating for an item with the median rating of that specific item.\n",
    "df['review_rating'].fillna(df.groupby('item_purchased')['review_rating'].transform('median'), inplace=True)"
   ]
  },
  {
   "cell_type": "code",
   "execution_count": 10,
   "id": "1ae6517f",
   "metadata": {},
   "outputs": [],
   "source": [
    "# convert 'purchase_date' to datetime\n",
    "df['purchase_date'] = pd.to_datetime(df['purchase_date'], format='%d-%m-%Y')"
   ]
  },
  {
   "cell_type": "code",
   "execution_count": 11,
   "id": "c97f8f1c",
   "metadata": {},
   "outputs": [],
   "source": [
    "# feature engineering: create new, useful columns from the 'purchase_date' column, such as 'month', 'year', and 'day_of_week'\n",
    "df['month'] = df['purchase_date'].dt.month\n",
    "df['year'] = df['purchase_date'].dt.year\n",
    "df['day_of_week'] = df['purchase_date'].dt.day_name()"
   ]
  },
  {
   "cell_type": "code",
   "execution_count": 12,
   "id": "afd91b64",
   "metadata": {},
   "outputs": [],
   "source": [
    "# save the cleaned DataFrame to a new CSV file\n",
    "df.to_csv('fashion_retail_sales_cleaned.csv', index=False)"
   ]
  },
  {
   "cell_type": "code",
   "execution_count": 13,
   "id": "51aa4d53",
   "metadata": {},
   "outputs": [
    {
     "name": "stdout",
     "output_type": "stream",
     "text": [
      "Top 10 Best-Selling Items by Quantity:\n",
      "item_purchased\n",
      "Belt        90\n",
      "Skirt       88\n",
      "Shorts      87\n",
      "Pants       86\n",
      "Tank Top    82\n",
      "T-shirt     82\n",
      "Pajamas     81\n",
      "Camisole    76\n",
      "Loafers     76\n",
      "Hoodie      75\n",
      "Name: count, dtype: int64\n",
      "\n",
      "Top 10 Items by Total Revenue:\n",
      "item_purchased\n",
      "Tunic       18143.0\n",
      "Pajamas     15178.0\n",
      "Jeans       14378.0\n",
      "Shorts      14138.5\n",
      "Handbag     13890.0\n",
      "Gloves      13142.0\n",
      "Boots       13087.0\n",
      "Loafers     13037.0\n",
      "Poncho      12871.5\n",
      "Slippers    12730.0\n",
      "Name: purchase_amount, dtype: float64\n",
      "\n",
      "Most Common Payment Method:\n",
      "payment_method\n",
      "Credit Card    1770\n",
      "Cash           1630\n",
      "Name: count, dtype: int64\n",
      "\n",
      "Daily Sales Trend:\n",
      "purchase_date\n",
      "2022-10-02    1056.0\n",
      "2022-10-03    1293.0\n",
      "2022-10-04    1161.5\n",
      "2022-10-05    1375.5\n",
      "2022-10-06     766.5\n",
      "               ...  \n",
      "2023-09-27     546.0\n",
      "2023-09-28    1341.0\n",
      "2023-09-29     604.0\n",
      "2023-09-30    1098.5\n",
      "2023-10-01     423.0\n",
      "Name: purchase_amount, Length: 365, dtype: float64\n",
      "\n",
      "Monthly Sales Trend:\n",
      "    year  month  purchase_amount\n",
      "0   2022     10          37675.5\n",
      "1   2022     11          39469.0\n",
      "2   2022     12          53139.5\n",
      "3   2023      1          35920.0\n",
      "4   2023      2          39726.5\n",
      "5   2023      3          44271.0\n",
      "6   2023      4          46915.5\n",
      "7   2023      5          51717.0\n",
      "8   2023      6          41308.0\n",
      "9   2023      7          39431.5\n",
      "10  2023      8          41510.0\n",
      "11  2023      9          30390.5\n",
      "12  2023     10            423.0\n",
      "\n",
      "Yearly Sales Trend:\n",
      "   year  purchase_amount\n",
      "0  2022         130284.0\n",
      "1  2023         371613.0\n"
     ]
    }
   ],
   "source": [
    "# Top 10 best-selling items by quantity\n",
    "top_items = df['item_purchased'].value_counts().head(10)\n",
    "\n",
    "# Top 10 items by total revenue\n",
    "top_revenue_items = df.groupby('item_purchased')[\n",
    "    'purchase_amount'].sum().sort_values(ascending=False).head(10)\n",
    "\n",
    "# Most common payment method\n",
    "top_payment = df['payment_method'].value_counts()\n",
    "\n",
    "# Daily sales trend\n",
    "daily_sales = df.groupby('purchase_date')['purchase_amount'].sum()\n",
    "\n",
    "# Monthly sales trend\n",
    "monthly_sales = df.groupby(['year', 'month'])['purchase_amount'].sum().reset_index()\n",
    "\n",
    "# Yearly sales trend\n",
    "yearly_sales = df.groupby('year')['purchase_amount'].sum().reset_index()\n",
    "\n",
    "# PRINTING RESULTS\n",
    "print(\"Top 10 Best-Selling Items by Quantity:\")\n",
    "print(top_items)\n",
    "print(\"\\nTop 10 Items by Total Revenue:\")\n",
    "print(top_revenue_items)\n",
    "print(\"\\nMost Common Payment Method:\")\n",
    "print(top_payment)\n",
    "print(\"\\nDaily Sales Trend:\")\n",
    "print(daily_sales)\n",
    "print(\"\\nMonthly Sales Trend:\")\n",
    "print(monthly_sales)\n",
    "print(\"\\nYearly Sales Trend:\")\n",
    "print(yearly_sales)\n"
   ]
  }
 ],
 "metadata": {
  "kernelspec": {
   "display_name": "base",
   "language": "python",
   "name": "python3"
  },
  "language_info": {
   "codemirror_mode": {
    "name": "ipython",
    "version": 3
   },
   "file_extension": ".py",
   "mimetype": "text/x-python",
   "name": "python",
   "nbconvert_exporter": "python",
   "pygments_lexer": "ipython3",
   "version": "3.12.7"
  }
 },
 "nbformat": 4,
 "nbformat_minor": 5
}
